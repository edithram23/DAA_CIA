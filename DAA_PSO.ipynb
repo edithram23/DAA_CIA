{
 "cells": [
  {
   "cell_type": "code",
   "execution_count": 1,
   "id": "4fb91bd9",
   "metadata": {},
   "outputs": [
    {
     "data": {
      "text/plain": [
       "<torch._C.Generator at 0x178351dd0d0>"
      ]
     },
     "execution_count": 1,
     "metadata": {},
     "output_type": "execute_result"
    }
   ],
   "source": [
    "import pandas as pd\n",
    "import numpy as np\n",
    "import torch\n",
    "import matplotlib.pyplot as plt\n",
    "import torch.nn as nn\n",
    "from torch.utils.data import DataLoader, TensorDataset\n",
    "from torch.optim import Adam\n",
    "from pyswarms.single import GlobalBestPSO\n",
    "torch.manual_seed(420)\n"
   ]
  },
  {
   "cell_type": "code",
   "execution_count": 2,
   "id": "14c26711",
   "metadata": {},
   "outputs": [],
   "source": [
    "data = pd.read_csv(\"Bank_Personal_Loan_Modelling.csv\")"
   ]
  },
  {
   "cell_type": "code",
   "execution_count": 3,
   "id": "c38a5679",
   "metadata": {},
   "outputs": [
    {
     "data": {
      "text/html": [
       "<div>\n",
       "<style scoped>\n",
       "    .dataframe tbody tr th:only-of-type {\n",
       "        vertical-align: middle;\n",
       "    }\n",
       "\n",
       "    .dataframe tbody tr th {\n",
       "        vertical-align: top;\n",
       "    }\n",
       "\n",
       "    .dataframe thead th {\n",
       "        text-align: right;\n",
       "    }\n",
       "</style>\n",
       "<table border=\"1\" class=\"dataframe\">\n",
       "  <thead>\n",
       "    <tr style=\"text-align: right;\">\n",
       "      <th></th>\n",
       "      <th>ID</th>\n",
       "      <th>Age</th>\n",
       "      <th>Experience</th>\n",
       "      <th>Income</th>\n",
       "      <th>ZIP Code</th>\n",
       "      <th>Family</th>\n",
       "      <th>CCAvg</th>\n",
       "      <th>Education</th>\n",
       "      <th>Mortgage</th>\n",
       "      <th>Personal Loan</th>\n",
       "      <th>Securities Account</th>\n",
       "      <th>CD Account</th>\n",
       "      <th>Online</th>\n",
       "      <th>CreditCard</th>\n",
       "    </tr>\n",
       "  </thead>\n",
       "  <tbody>\n",
       "    <tr>\n",
       "      <th>0</th>\n",
       "      <td>1</td>\n",
       "      <td>25</td>\n",
       "      <td>1</td>\n",
       "      <td>49</td>\n",
       "      <td>91107</td>\n",
       "      <td>4</td>\n",
       "      <td>1.6</td>\n",
       "      <td>1</td>\n",
       "      <td>0</td>\n",
       "      <td>0</td>\n",
       "      <td>1</td>\n",
       "      <td>0</td>\n",
       "      <td>0</td>\n",
       "      <td>0</td>\n",
       "    </tr>\n",
       "    <tr>\n",
       "      <th>1</th>\n",
       "      <td>2</td>\n",
       "      <td>45</td>\n",
       "      <td>19</td>\n",
       "      <td>34</td>\n",
       "      <td>90089</td>\n",
       "      <td>3</td>\n",
       "      <td>1.5</td>\n",
       "      <td>1</td>\n",
       "      <td>0</td>\n",
       "      <td>0</td>\n",
       "      <td>1</td>\n",
       "      <td>0</td>\n",
       "      <td>0</td>\n",
       "      <td>0</td>\n",
       "    </tr>\n",
       "    <tr>\n",
       "      <th>2</th>\n",
       "      <td>3</td>\n",
       "      <td>39</td>\n",
       "      <td>15</td>\n",
       "      <td>11</td>\n",
       "      <td>94720</td>\n",
       "      <td>1</td>\n",
       "      <td>1.0</td>\n",
       "      <td>1</td>\n",
       "      <td>0</td>\n",
       "      <td>0</td>\n",
       "      <td>0</td>\n",
       "      <td>0</td>\n",
       "      <td>0</td>\n",
       "      <td>0</td>\n",
       "    </tr>\n",
       "    <tr>\n",
       "      <th>3</th>\n",
       "      <td>4</td>\n",
       "      <td>35</td>\n",
       "      <td>9</td>\n",
       "      <td>100</td>\n",
       "      <td>94112</td>\n",
       "      <td>1</td>\n",
       "      <td>2.7</td>\n",
       "      <td>2</td>\n",
       "      <td>0</td>\n",
       "      <td>0</td>\n",
       "      <td>0</td>\n",
       "      <td>0</td>\n",
       "      <td>0</td>\n",
       "      <td>0</td>\n",
       "    </tr>\n",
       "    <tr>\n",
       "      <th>4</th>\n",
       "      <td>5</td>\n",
       "      <td>35</td>\n",
       "      <td>8</td>\n",
       "      <td>45</td>\n",
       "      <td>91330</td>\n",
       "      <td>4</td>\n",
       "      <td>1.0</td>\n",
       "      <td>2</td>\n",
       "      <td>0</td>\n",
       "      <td>0</td>\n",
       "      <td>0</td>\n",
       "      <td>0</td>\n",
       "      <td>0</td>\n",
       "      <td>1</td>\n",
       "    </tr>\n",
       "    <tr>\n",
       "      <th>...</th>\n",
       "      <td>...</td>\n",
       "      <td>...</td>\n",
       "      <td>...</td>\n",
       "      <td>...</td>\n",
       "      <td>...</td>\n",
       "      <td>...</td>\n",
       "      <td>...</td>\n",
       "      <td>...</td>\n",
       "      <td>...</td>\n",
       "      <td>...</td>\n",
       "      <td>...</td>\n",
       "      <td>...</td>\n",
       "      <td>...</td>\n",
       "      <td>...</td>\n",
       "    </tr>\n",
       "    <tr>\n",
       "      <th>4995</th>\n",
       "      <td>4996</td>\n",
       "      <td>29</td>\n",
       "      <td>3</td>\n",
       "      <td>40</td>\n",
       "      <td>92697</td>\n",
       "      <td>1</td>\n",
       "      <td>1.9</td>\n",
       "      <td>3</td>\n",
       "      <td>0</td>\n",
       "      <td>0</td>\n",
       "      <td>0</td>\n",
       "      <td>0</td>\n",
       "      <td>1</td>\n",
       "      <td>0</td>\n",
       "    </tr>\n",
       "    <tr>\n",
       "      <th>4996</th>\n",
       "      <td>4997</td>\n",
       "      <td>30</td>\n",
       "      <td>4</td>\n",
       "      <td>15</td>\n",
       "      <td>92037</td>\n",
       "      <td>4</td>\n",
       "      <td>0.4</td>\n",
       "      <td>1</td>\n",
       "      <td>85</td>\n",
       "      <td>0</td>\n",
       "      <td>0</td>\n",
       "      <td>0</td>\n",
       "      <td>1</td>\n",
       "      <td>0</td>\n",
       "    </tr>\n",
       "    <tr>\n",
       "      <th>4997</th>\n",
       "      <td>4998</td>\n",
       "      <td>63</td>\n",
       "      <td>39</td>\n",
       "      <td>24</td>\n",
       "      <td>93023</td>\n",
       "      <td>2</td>\n",
       "      <td>0.3</td>\n",
       "      <td>3</td>\n",
       "      <td>0</td>\n",
       "      <td>0</td>\n",
       "      <td>0</td>\n",
       "      <td>0</td>\n",
       "      <td>0</td>\n",
       "      <td>0</td>\n",
       "    </tr>\n",
       "    <tr>\n",
       "      <th>4998</th>\n",
       "      <td>4999</td>\n",
       "      <td>65</td>\n",
       "      <td>40</td>\n",
       "      <td>49</td>\n",
       "      <td>90034</td>\n",
       "      <td>3</td>\n",
       "      <td>0.5</td>\n",
       "      <td>2</td>\n",
       "      <td>0</td>\n",
       "      <td>0</td>\n",
       "      <td>0</td>\n",
       "      <td>0</td>\n",
       "      <td>1</td>\n",
       "      <td>0</td>\n",
       "    </tr>\n",
       "    <tr>\n",
       "      <th>4999</th>\n",
       "      <td>5000</td>\n",
       "      <td>28</td>\n",
       "      <td>4</td>\n",
       "      <td>83</td>\n",
       "      <td>92612</td>\n",
       "      <td>3</td>\n",
       "      <td>0.8</td>\n",
       "      <td>1</td>\n",
       "      <td>0</td>\n",
       "      <td>0</td>\n",
       "      <td>0</td>\n",
       "      <td>0</td>\n",
       "      <td>1</td>\n",
       "      <td>1</td>\n",
       "    </tr>\n",
       "  </tbody>\n",
       "</table>\n",
       "<p>5000 rows × 14 columns</p>\n",
       "</div>"
      ],
      "text/plain": [
       "        ID  Age  Experience  Income  ZIP Code  Family  CCAvg  Education  \\\n",
       "0        1   25           1      49     91107       4    1.6          1   \n",
       "1        2   45          19      34     90089       3    1.5          1   \n",
       "2        3   39          15      11     94720       1    1.0          1   \n",
       "3        4   35           9     100     94112       1    2.7          2   \n",
       "4        5   35           8      45     91330       4    1.0          2   \n",
       "...    ...  ...         ...     ...       ...     ...    ...        ...   \n",
       "4995  4996   29           3      40     92697       1    1.9          3   \n",
       "4996  4997   30           4      15     92037       4    0.4          1   \n",
       "4997  4998   63          39      24     93023       2    0.3          3   \n",
       "4998  4999   65          40      49     90034       3    0.5          2   \n",
       "4999  5000   28           4      83     92612       3    0.8          1   \n",
       "\n",
       "      Mortgage  Personal Loan  Securities Account  CD Account  Online  \\\n",
       "0            0              0                   1           0       0   \n",
       "1            0              0                   1           0       0   \n",
       "2            0              0                   0           0       0   \n",
       "3            0              0                   0           0       0   \n",
       "4            0              0                   0           0       0   \n",
       "...        ...            ...                 ...         ...     ...   \n",
       "4995         0              0                   0           0       1   \n",
       "4996        85              0                   0           0       1   \n",
       "4997         0              0                   0           0       0   \n",
       "4998         0              0                   0           0       1   \n",
       "4999         0              0                   0           0       1   \n",
       "\n",
       "      CreditCard  \n",
       "0              0  \n",
       "1              0  \n",
       "2              0  \n",
       "3              0  \n",
       "4              1  \n",
       "...          ...  \n",
       "4995           0  \n",
       "4996           0  \n",
       "4997           0  \n",
       "4998           0  \n",
       "4999           1  \n",
       "\n",
       "[5000 rows x 14 columns]"
      ]
     },
     "execution_count": 3,
     "metadata": {},
     "output_type": "execute_result"
    }
   ],
   "source": [
    "data"
   ]
  },
  {
   "cell_type": "code",
   "execution_count": 4,
   "id": "8129a0a3",
   "metadata": {},
   "outputs": [
    {
     "name": "stdout",
     "output_type": "stream",
     "text": [
      "<class 'pandas.core.frame.DataFrame'>\n",
      "RangeIndex: 5000 entries, 0 to 4999\n",
      "Data columns (total 14 columns):\n",
      " #   Column              Non-Null Count  Dtype  \n",
      "---  ------              --------------  -----  \n",
      " 0   ID                  5000 non-null   int64  \n",
      " 1   Age                 5000 non-null   int64  \n",
      " 2   Experience          5000 non-null   int64  \n",
      " 3   Income              5000 non-null   int64  \n",
      " 4   ZIP Code            5000 non-null   int64  \n",
      " 5   Family              5000 non-null   int64  \n",
      " 6   CCAvg               5000 non-null   float64\n",
      " 7   Education           5000 non-null   int64  \n",
      " 8   Mortgage            5000 non-null   int64  \n",
      " 9   Personal Loan       5000 non-null   int64  \n",
      " 10  Securities Account  5000 non-null   int64  \n",
      " 11  CD Account          5000 non-null   int64  \n",
      " 12  Online              5000 non-null   int64  \n",
      " 13  CreditCard          5000 non-null   int64  \n",
      "dtypes: float64(1), int64(13)\n",
      "memory usage: 547.0 KB\n"
     ]
    }
   ],
   "source": [
    "data.info()"
   ]
  },
  {
   "cell_type": "code",
   "execution_count": 5,
   "id": "bd01e89f",
   "metadata": {
    "scrolled": true
   },
   "outputs": [
    {
     "data": {
      "text/html": [
       "<div>\n",
       "<style scoped>\n",
       "    .dataframe tbody tr th:only-of-type {\n",
       "        vertical-align: middle;\n",
       "    }\n",
       "\n",
       "    .dataframe tbody tr th {\n",
       "        vertical-align: top;\n",
       "    }\n",
       "\n",
       "    .dataframe thead th {\n",
       "        text-align: right;\n",
       "    }\n",
       "</style>\n",
       "<table border=\"1\" class=\"dataframe\">\n",
       "  <thead>\n",
       "    <tr style=\"text-align: right;\">\n",
       "      <th></th>\n",
       "      <th>ID</th>\n",
       "      <th>Age</th>\n",
       "      <th>Experience</th>\n",
       "      <th>Income</th>\n",
       "      <th>ZIP Code</th>\n",
       "      <th>Family</th>\n",
       "      <th>CCAvg</th>\n",
       "      <th>Education</th>\n",
       "      <th>Mortgage</th>\n",
       "      <th>Personal Loan</th>\n",
       "      <th>Securities Account</th>\n",
       "      <th>CD Account</th>\n",
       "      <th>Online</th>\n",
       "      <th>CreditCard</th>\n",
       "    </tr>\n",
       "  </thead>\n",
       "  <tbody>\n",
       "    <tr>\n",
       "      <th>count</th>\n",
       "      <td>5000.000000</td>\n",
       "      <td>5000.000000</td>\n",
       "      <td>5000.000000</td>\n",
       "      <td>5000.000000</td>\n",
       "      <td>5000.000000</td>\n",
       "      <td>5000.000000</td>\n",
       "      <td>5000.000000</td>\n",
       "      <td>5000.000000</td>\n",
       "      <td>5000.000000</td>\n",
       "      <td>5000.000000</td>\n",
       "      <td>5000.000000</td>\n",
       "      <td>5000.00000</td>\n",
       "      <td>5000.000000</td>\n",
       "      <td>5000.000000</td>\n",
       "    </tr>\n",
       "    <tr>\n",
       "      <th>mean</th>\n",
       "      <td>2500.500000</td>\n",
       "      <td>45.338400</td>\n",
       "      <td>20.104600</td>\n",
       "      <td>73.774200</td>\n",
       "      <td>93152.503000</td>\n",
       "      <td>2.396400</td>\n",
       "      <td>1.937938</td>\n",
       "      <td>1.881000</td>\n",
       "      <td>56.498800</td>\n",
       "      <td>0.096000</td>\n",
       "      <td>0.104400</td>\n",
       "      <td>0.06040</td>\n",
       "      <td>0.596800</td>\n",
       "      <td>0.294000</td>\n",
       "    </tr>\n",
       "    <tr>\n",
       "      <th>std</th>\n",
       "      <td>1443.520003</td>\n",
       "      <td>11.463166</td>\n",
       "      <td>11.467954</td>\n",
       "      <td>46.033729</td>\n",
       "      <td>2121.852197</td>\n",
       "      <td>1.147663</td>\n",
       "      <td>1.747659</td>\n",
       "      <td>0.839869</td>\n",
       "      <td>101.713802</td>\n",
       "      <td>0.294621</td>\n",
       "      <td>0.305809</td>\n",
       "      <td>0.23825</td>\n",
       "      <td>0.490589</td>\n",
       "      <td>0.455637</td>\n",
       "    </tr>\n",
       "    <tr>\n",
       "      <th>min</th>\n",
       "      <td>1.000000</td>\n",
       "      <td>23.000000</td>\n",
       "      <td>-3.000000</td>\n",
       "      <td>8.000000</td>\n",
       "      <td>9307.000000</td>\n",
       "      <td>1.000000</td>\n",
       "      <td>0.000000</td>\n",
       "      <td>1.000000</td>\n",
       "      <td>0.000000</td>\n",
       "      <td>0.000000</td>\n",
       "      <td>0.000000</td>\n",
       "      <td>0.00000</td>\n",
       "      <td>0.000000</td>\n",
       "      <td>0.000000</td>\n",
       "    </tr>\n",
       "    <tr>\n",
       "      <th>25%</th>\n",
       "      <td>1250.750000</td>\n",
       "      <td>35.000000</td>\n",
       "      <td>10.000000</td>\n",
       "      <td>39.000000</td>\n",
       "      <td>91911.000000</td>\n",
       "      <td>1.000000</td>\n",
       "      <td>0.700000</td>\n",
       "      <td>1.000000</td>\n",
       "      <td>0.000000</td>\n",
       "      <td>0.000000</td>\n",
       "      <td>0.000000</td>\n",
       "      <td>0.00000</td>\n",
       "      <td>0.000000</td>\n",
       "      <td>0.000000</td>\n",
       "    </tr>\n",
       "    <tr>\n",
       "      <th>50%</th>\n",
       "      <td>2500.500000</td>\n",
       "      <td>45.000000</td>\n",
       "      <td>20.000000</td>\n",
       "      <td>64.000000</td>\n",
       "      <td>93437.000000</td>\n",
       "      <td>2.000000</td>\n",
       "      <td>1.500000</td>\n",
       "      <td>2.000000</td>\n",
       "      <td>0.000000</td>\n",
       "      <td>0.000000</td>\n",
       "      <td>0.000000</td>\n",
       "      <td>0.00000</td>\n",
       "      <td>1.000000</td>\n",
       "      <td>0.000000</td>\n",
       "    </tr>\n",
       "    <tr>\n",
       "      <th>75%</th>\n",
       "      <td>3750.250000</td>\n",
       "      <td>55.000000</td>\n",
       "      <td>30.000000</td>\n",
       "      <td>98.000000</td>\n",
       "      <td>94608.000000</td>\n",
       "      <td>3.000000</td>\n",
       "      <td>2.500000</td>\n",
       "      <td>3.000000</td>\n",
       "      <td>101.000000</td>\n",
       "      <td>0.000000</td>\n",
       "      <td>0.000000</td>\n",
       "      <td>0.00000</td>\n",
       "      <td>1.000000</td>\n",
       "      <td>1.000000</td>\n",
       "    </tr>\n",
       "    <tr>\n",
       "      <th>max</th>\n",
       "      <td>5000.000000</td>\n",
       "      <td>67.000000</td>\n",
       "      <td>43.000000</td>\n",
       "      <td>224.000000</td>\n",
       "      <td>96651.000000</td>\n",
       "      <td>4.000000</td>\n",
       "      <td>10.000000</td>\n",
       "      <td>3.000000</td>\n",
       "      <td>635.000000</td>\n",
       "      <td>1.000000</td>\n",
       "      <td>1.000000</td>\n",
       "      <td>1.00000</td>\n",
       "      <td>1.000000</td>\n",
       "      <td>1.000000</td>\n",
       "    </tr>\n",
       "  </tbody>\n",
       "</table>\n",
       "</div>"
      ],
      "text/plain": [
       "                ID          Age   Experience       Income      ZIP Code  \\\n",
       "count  5000.000000  5000.000000  5000.000000  5000.000000   5000.000000   \n",
       "mean   2500.500000    45.338400    20.104600    73.774200  93152.503000   \n",
       "std    1443.520003    11.463166    11.467954    46.033729   2121.852197   \n",
       "min       1.000000    23.000000    -3.000000     8.000000   9307.000000   \n",
       "25%    1250.750000    35.000000    10.000000    39.000000  91911.000000   \n",
       "50%    2500.500000    45.000000    20.000000    64.000000  93437.000000   \n",
       "75%    3750.250000    55.000000    30.000000    98.000000  94608.000000   \n",
       "max    5000.000000    67.000000    43.000000   224.000000  96651.000000   \n",
       "\n",
       "            Family        CCAvg    Education     Mortgage  Personal Loan  \\\n",
       "count  5000.000000  5000.000000  5000.000000  5000.000000    5000.000000   \n",
       "mean      2.396400     1.937938     1.881000    56.498800       0.096000   \n",
       "std       1.147663     1.747659     0.839869   101.713802       0.294621   \n",
       "min       1.000000     0.000000     1.000000     0.000000       0.000000   \n",
       "25%       1.000000     0.700000     1.000000     0.000000       0.000000   \n",
       "50%       2.000000     1.500000     2.000000     0.000000       0.000000   \n",
       "75%       3.000000     2.500000     3.000000   101.000000       0.000000   \n",
       "max       4.000000    10.000000     3.000000   635.000000       1.000000   \n",
       "\n",
       "       Securities Account  CD Account       Online   CreditCard  \n",
       "count         5000.000000  5000.00000  5000.000000  5000.000000  \n",
       "mean             0.104400     0.06040     0.596800     0.294000  \n",
       "std              0.305809     0.23825     0.490589     0.455637  \n",
       "min              0.000000     0.00000     0.000000     0.000000  \n",
       "25%              0.000000     0.00000     0.000000     0.000000  \n",
       "50%              0.000000     0.00000     1.000000     0.000000  \n",
       "75%              0.000000     0.00000     1.000000     1.000000  \n",
       "max              1.000000     1.00000     1.000000     1.000000  "
      ]
     },
     "execution_count": 5,
     "metadata": {},
     "output_type": "execute_result"
    }
   ],
   "source": [
    "data.describe()"
   ]
  },
  {
   "cell_type": "code",
   "execution_count": 6,
   "id": "8c597fba",
   "metadata": {},
   "outputs": [],
   "source": [
    "col = data.columns\n",
    "col =[ 'Age', 'Experience', 'Income', 'Family', 'CCAvg',\n",
    "       'Education', 'Mortgage', 'Securities Account',\n",
    "       'CD Account', 'Online', 'CreditCard','Personal Loan']\n",
    "data = data[col]"
   ]
  },
  {
   "cell_type": "code",
   "execution_count": 7,
   "id": "d7ea3fe1",
   "metadata": {},
   "outputs": [
    {
     "data": {
      "text/plain": [
       "13"
      ]
     },
     "execution_count": 7,
     "metadata": {},
     "output_type": "execute_result"
    }
   ],
   "source": [
    "data.duplicated().sum()"
   ]
  },
  {
   "cell_type": "code",
   "execution_count": 8,
   "id": "48521a86",
   "metadata": {},
   "outputs": [
    {
     "data": {
      "text/plain": [
       "((5000, 11), (5000,))"
      ]
     },
     "execution_count": 8,
     "metadata": {},
     "output_type": "execute_result"
    }
   ],
   "source": [
    "x = data.iloc[:,:-1].values\n",
    "y = data.iloc[:,-1].values\n",
    "x.shape,y.shape"
   ]
  },
  {
   "cell_type": "code",
   "execution_count": 9,
   "id": "05f4218f",
   "metadata": {
    "scrolled": true
   },
   "outputs": [
    {
     "data": {
      "text/plain": [
       "((4000, 11), (1000, 11), (4000,), (1000,))"
      ]
     },
     "execution_count": 9,
     "metadata": {},
     "output_type": "execute_result"
    }
   ],
   "source": [
    "from sklearn.model_selection import train_test_split\n",
    "x_train,x_test,y_train,y_test = train_test_split(x,y,test_size=0.20,random_state=69)\n",
    "(x_train.shape,x_test.shape,y_train.shape,y_test.shape)"
   ]
  },
  {
   "cell_type": "code",
   "execution_count": 10,
   "id": "8b98ed7d",
   "metadata": {},
   "outputs": [],
   "source": [
    "# from sklearn.preprocessing import StandardScaler\n",
    "# sc = StandardScaler()\n",
    "# x_train = sc.fit_transform(x_train)"
   ]
  },
  {
   "cell_type": "code",
   "execution_count": 11,
   "id": "f2865d0d",
   "metadata": {},
   "outputs": [],
   "source": [
    "X_train = torch.from_numpy(x_train).to(torch.float32)\n",
    "Y_train = torch.from_numpy(y_train)"
   ]
  },
  {
   "cell_type": "markdown",
   "id": "d060aac3",
   "metadata": {},
   "source": [
    "### DATALOADER ITERATOR"
   ]
  },
  {
   "cell_type": "code",
   "execution_count": 12,
   "id": "d530a451",
   "metadata": {},
   "outputs": [],
   "source": [
    "df = TensorDataset(X_train,Y_train)\n",
    "data_load = DataLoader(df,batch_size=5)"
   ]
  },
  {
   "cell_type": "markdown",
   "id": "426e4bf1",
   "metadata": {},
   "source": [
    "### Multilayer perceptron model"
   ]
  },
  {
   "cell_type": "code",
   "execution_count": 13,
   "id": "039e15b7",
   "metadata": {},
   "outputs": [],
   "source": [
    "class NeuralNet(nn.Module):\n",
    "    def __init__(self,x,h,y):\n",
    "        super().__init__()\n",
    "        self.l1 = nn.Linear(x,h)\n",
    "        self.relu = nn.ReLU()\n",
    "        self.l2 = nn.Linear(h,y)\n",
    "    def forward(self,val):\n",
    "        val = self.l1(val)\n",
    "        val = self.relu(val)\n",
    "        val = self.l2(val)\n",
    "        return val    "
   ]
  },
  {
   "cell_type": "code",
   "execution_count": 14,
   "id": "928a43ca",
   "metadata": {},
   "outputs": [
    {
     "data": {
      "text/plain": [
       "(11, 2, 11)"
      ]
     },
     "execution_count": 14,
     "metadata": {},
     "output_type": "execute_result"
    }
   ],
   "source": [
    "#input_size\n",
    "x = X_train.shape[1]\n",
    "# hidden layer size\n",
    "h = X_train.shape[1] #most preferably the size of input\n",
    "#output size\n",
    "y = 2\n",
    "mod = NeuralNet(x,h,y)\n",
    "x,y,h"
   ]
  },
  {
   "cell_type": "code",
   "execution_count": 15,
   "id": "36b013f6",
   "metadata": {},
   "outputs": [],
   "source": [
    "x = data_load.dataset"
   ]
  },
  {
   "cell_type": "markdown",
   "id": "a37f2ec5",
   "metadata": {},
   "source": [
    "### Loss and optimizing"
   ]
  },
  {
   "cell_type": "code",
   "execution_count": 16,
   "id": "7d27a93c",
   "metadata": {},
   "outputs": [],
   "source": [
    "criterion = nn.CrossEntropyLoss()\n",
    "optimizer = Adam(mod.parameters(),lr=0.003)\n"
   ]
  },
  {
   "cell_type": "code",
   "execution_count": 17,
   "id": "30242052",
   "metadata": {
    "scrolled": true
   },
   "outputs": [
    {
     "name": "stdout",
     "output_type": "stream",
     "text": [
      "Epoch: 1 Error: 0.5479701197245503 tensor(0.8622)\n",
      "Epoch: 2 Error: 0.28283180166532473 tensor(0.8907)\n",
      "Epoch: 3 Error: 0.23164258688177142 tensor(0.9062)\n",
      "Epoch: 4 Error: 0.2029285317253016 tensor(0.9172)\n",
      "Epoch: 5 Error: 0.18086702852727285 tensor(0.9258)\n",
      "Epoch: 6 Error: 0.16406502360923242 tensor(0.9342)\n",
      "Epoch: 7 Error: 0.15610560146188618 tensor(0.9392)\n",
      "Epoch: 8 Error: 0.1453615463767676 tensor(0.9417)\n",
      "Epoch: 9 Error: 0.1372090900799094 tensor(0.9463)\n",
      "Epoch: 10 Error: 0.12911531624443684 tensor(0.9482)\n",
      "Epoch: 11 Error: 0.12626023604373812 tensor(0.9535)\n",
      "Epoch: 12 Error: 0.11986383121337298 tensor(0.9550)\n",
      "Epoch: 13 Error: 0.11435514340375391 tensor(0.9580)\n",
      "Epoch: 14 Error: 0.11158135324729301 tensor(0.9580)\n",
      "Epoch: 15 Error: 0.1089985324519256 tensor(0.9595)\n",
      "Epoch: 16 Error: 0.1080066664444297 tensor(0.9597)\n",
      "Epoch: 17 Error: 0.104412053792189 tensor(0.9615)\n",
      "Epoch: 18 Error: 0.10347149923556742 tensor(0.9617)\n",
      "Epoch: 19 Error: 0.10334819684267074 tensor(0.9595)\n",
      "Epoch: 20 Error: 0.10158783699276398 tensor(0.9597)\n",
      "Epoch: 21 Error: 0.1010201092995419 tensor(0.9607)\n",
      "Epoch: 22 Error: 0.10189803597931019 tensor(0.9603)\n",
      "Epoch: 23 Error: 0.10072382758014178 tensor(0.9620)\n",
      "Epoch: 24 Error: 0.1001224293425237 tensor(0.9620)\n",
      "Epoch: 25 Error: 0.10039745118141952 tensor(0.9607)\n",
      "Epoch: 26 Error: 0.09566025262677222 tensor(0.9640)\n",
      "Epoch: 27 Error: 0.09712831840523335 tensor(0.9632)\n",
      "Epoch: 28 Error: 0.09552173828542322 tensor(0.9630)\n",
      "Epoch: 29 Error: 0.09517175923957709 tensor(0.9628)\n",
      "Epoch: 30 Error: 0.09409312823592905 tensor(0.9625)\n",
      "Epoch: 31 Error: 0.09604692095253142 tensor(0.9645)\n",
      "Epoch: 32 Error: 0.09604641697268378 tensor(0.9630)\n",
      "Epoch: 33 Error: 0.09359961969283973 tensor(0.9650)\n",
      "Epoch: 34 Error: 0.09424054614119719 tensor(0.9655)\n",
      "Epoch: 35 Error: 0.09208426928134372 tensor(0.9653)\n",
      "Epoch: 36 Error: 0.09206530702484755 tensor(0.9655)\n",
      "Epoch: 37 Error: 0.092883861478266 tensor(0.9665)\n",
      "Epoch: 38 Error: 0.09445493704720491 tensor(0.9638)\n",
      "Epoch: 39 Error: 0.09519570078931877 tensor(0.9640)\n",
      "Epoch: 40 Error: 0.09079173117886569 tensor(0.9660)\n",
      "Epoch: 41 Error: 0.09015553272054945 tensor(0.9663)\n",
      "Epoch: 42 Error: 0.08910192330889571 tensor(0.9653)\n",
      "Epoch: 43 Error: 0.08930820126843826 tensor(0.9665)\n",
      "Epoch: 44 Error: 0.08634724986364858 tensor(0.9672)\n",
      "Epoch: 45 Error: 0.08646842575854151 tensor(0.9665)\n",
      "Epoch: 46 Error: 0.08569384896779837 tensor(0.9670)\n",
      "Epoch: 47 Error: 0.08769775460670673 tensor(0.9668)\n",
      "Epoch: 48 Error: 0.08718123062068514 tensor(0.9670)\n",
      "Epoch: 49 Error: 0.0857500916776425 tensor(0.9672)\n",
      "Epoch: 50 Error: 0.08593764487510612 tensor(0.9682)\n"
     ]
    }
   ],
   "source": [
    "epoch = 50\n",
    "pr=0\n",
    "training_loss = [0] * epoch\n",
    "training_accuracy = [0] * epoch\n",
    "for i in range (epoch):\n",
    "    \n",
    "    for x1,y1 in data_load:\n",
    "        #forward\n",
    "        output = mod(x1)\n",
    "        loss = criterion(output,y1)\n",
    "        #backward\n",
    "        optimizer.zero_grad()\n",
    "        loss.backward()\n",
    "        optimizer.step()\n",
    "        training_loss[i] += loss.item() * y1.size(0)\n",
    "        correct_count = (torch.argmax(output, dim=1) == y1).to(torch.float32)\n",
    "        training_accuracy[i] += correct_count.mean() * y1.size(0)\n",
    "    training_loss[i] /= len(data_load.dataset)\n",
    "    training_accuracy[i] /= len(data_load.dataset)\n",
    "    \n",
    "    pr = loss.item()    \n",
    "    print(\"Epoch:\",i+1,\"Error:\",training_loss[i],training_accuracy[i])    "
   ]
  },
  {
   "cell_type": "code",
   "execution_count": 18,
   "id": "e83bf32d",
   "metadata": {},
   "outputs": [],
   "source": [
    "def flattening(model):\n",
    "    matrix=[]\n",
    "    for parameters in model.parameters():\n",
    "        matrix.append(parameters.numpy().flatten())\n",
    "         \n",
    "    return np.concatenate(matrix) "
   ]
  },
  {
   "cell_type": "code",
   "execution_count": 19,
   "id": "904ad18a",
   "metadata": {},
   "outputs": [],
   "source": [
    "def shape_size(model):\n",
    "    shape=[]\n",
    "    for i in model.parameters():\n",
    "        shape+=[i.numpy().shape]\n",
    "    size=[]\n",
    "    for i in shape:\n",
    "        if(len(i)==2):\n",
    "            size+=[i[0]*i[1]]\n",
    "        else:\n",
    "            size+=[i[0]]\n",
    "    return shape,size       "
   ]
  },
  {
   "cell_type": "code",
   "execution_count": 32,
   "id": "7f66bf47",
   "metadata": {},
   "outputs": [],
   "source": [
    "def reshape(child,shape,size):\n",
    "    param = []\n",
    "    offset = 0\n",
    "    for i in range(len(shape)):\n",
    "        parameter = child[offset : offset + size[i]].reshape(shape[i])\n",
    "        param.append(parameter)\n",
    "        offset+=size[i]\n",
    "    return param"
   ]
  },
  {
   "cell_type": "code",
   "execution_count": 23,
   "id": "7bb4bee3",
   "metadata": {},
   "outputs": [
    {
     "data": {
      "text/plain": [
       "(156, [(11, 11), (11,), (2, 11), (2,)], [121, 11, 22, 2])"
      ]
     },
     "execution_count": 23,
     "metadata": {},
     "output_type": "execute_result"
    }
   ],
   "source": [
    "torch.set_grad_enabled(False)\n",
    "param = flattening(mod)\n",
    "shape,size=shape_size(mod)\n"
   ]
  },
  {
   "cell_type": "code",
   "execution_count": 37,
   "id": "d6d9b154",
   "metadata": {},
   "outputs": [],
   "source": [
    "options = {'c1':0.6,'c2':0.3,'w':0.1}\n",
    "x_max = 1.0*np.ones(len(param))\n",
    "x_min = -1.0*x_max\n",
    "bounds = (x_min,x_max)"
   ]
  },
  {
   "cell_type": "code",
   "execution_count": 30,
   "id": "f2597fa3",
   "metadata": {},
   "outputs": [],
   "source": [
    "# Accuracy \n",
    "def fitness_function(model):\n",
    "    \n",
    "    output=model(X_train)\n",
    "   \n",
    "    correct_count = (torch.argmax(output, dim=1) == Y_train).to(torch.float32)\n",
    "    #print(correct_count.sum())\n",
    "    training_accuracy = correct_count.sum().item()/len(data_load.dataset)\n",
    "    return training_accuracy"
   ]
  },
  {
   "cell_type": "code",
   "execution_count": 63,
   "id": "8a4ef0d0",
   "metadata": {},
   "outputs": [],
   "source": [
    "def objective_function(particle,shape=shape,size=size):\n",
    "    output = []\n",
    "    acc = []\n",
    "    \n",
    "    for i in particle:\n",
    "        output.append(reshape(i,shape,size))\n",
    "    output = np.array(output, dtype=\"object\")    \n",
    "    \n",
    "    for i in range(len(output)):\n",
    "        \n",
    "        for index,weight in enumerate(mod.parameters()):\n",
    "            weight.data = (torch.tensor(output[i][index])).to(torch.float32)\n",
    "    return fitness_function(mod)    "
   ]
  },
  {
   "cell_type": "code",
   "execution_count": 64,
   "id": "e47b1371",
   "metadata": {},
   "outputs": [],
   "source": [
    "pso = GlobalBestPSO(n_particles=500,dimensions=len(param),options=options,bounds=bounds)"
   ]
  },
  {
   "cell_type": "code",
   "execution_count": 65,
   "id": "1f01f7e2",
   "metadata": {},
   "outputs": [
    {
     "name": "stderr",
     "output_type": "stream",
     "text": [
      "2023-04-05 21:53:57,966 - pyswarms.single.global_best - INFO - Optimize for 50 iters with {'c1': 0.6, 'c2': 0.3, 'w': 0.1}\n",
      "pyswarms.single.global_best: 100%|██████████████████████████████████████████████████████████████|50/50, best_cost=0.097\n",
      "2023-04-05 21:54:00,979 - pyswarms.single.global_best - INFO - Optimization finished | best cost: 0.097, best pos: [-0.62968748  0.62413872 -0.30350696 -0.07230615 -0.80708461  0.79315876\n",
      " -0.00712642 -0.63508483  0.07251778  0.39986354 -0.35008944 -0.47033761\n",
      "  0.70946099  0.77631753  0.25146591 -0.59943521  0.09310169 -0.69645703\n",
      " -0.48915891  0.46814833  0.9509025   0.24417977 -0.05584132 -0.56997317\n",
      " -0.70151657 -0.18846916 -0.34445816  0.76027501  0.84373498 -0.41278596\n",
      " -0.50556442  0.54871676 -0.35158997  0.18799352 -0.32494777  0.89410303\n",
      " -0.05401867 -0.41508475  0.16613226 -0.28851128  0.18370312  0.08886279\n",
      "  0.93714012 -0.95851964  0.11713272  0.22506401 -0.57412408 -0.21856123\n",
      " -0.63551124  0.51242633  0.65099683 -0.16701521 -0.60912096  0.64593189\n",
      "  0.3703781   0.47444675 -0.57790957  0.56475886  0.78170296  0.00516117\n",
      " -0.85000016  0.20422016 -0.91171276  0.46679125 -0.28216411  0.30302737\n",
      " -0.26787469  0.19842553 -0.93859639  0.36197183 -0.80862841  0.96625251\n",
      " -0.1212574  -0.75214889  0.49932842 -0.9936802   0.63200565 -0.96656122\n",
      "  0.50382415 -0.82303343  0.89908644 -0.25834066 -0.48883175 -0.91539302\n",
      " -0.23316046 -0.6905433  -0.51670906  0.52398155 -0.99683744  0.48681581\n",
      "  0.68836804  0.43954642  0.90692324 -0.9506147   0.32664518 -0.44940985\n",
      "  0.26998509  0.52224487  0.15866576 -0.25350813 -0.26842125  0.32378867\n",
      "  0.90971702  0.36475064 -0.11071857 -0.2599203   0.36668301  0.15744541\n",
      "  0.1834029   0.54829749  0.25841154 -0.07824658 -0.91198372  0.67511307\n",
      " -0.54080527  0.332222   -0.65708027 -0.71440615 -0.59284774 -0.6740458\n",
      "  0.78427035 -0.41417193  0.16302439  0.21622701  0.56725798  0.92836573\n",
      " -0.68419313 -0.58205182 -0.83504487 -0.20320556  0.16073047 -0.01076382\n",
      " -0.50664129  0.61008251 -0.71638328 -0.84664165  0.01065299  0.59452627\n",
      "  0.09667165  0.3219259   0.73750262  0.34211969 -0.57525034 -0.93221227\n",
      " -0.90768069  0.97091005 -0.95679764 -0.11934744 -0.36846265  0.74188906\n",
      " -0.16151194 -0.28943921 -0.56858215  0.35225879  0.95508412  0.45281536]\n"
     ]
    },
    {
     "name": "stdout",
     "output_type": "stream",
     "text": [
      "0.903\n"
     ]
    }
   ],
   "source": [
    "best_cost,best_parameters = pso.optimize(objective_func=objective_function,iters=50)\n",
    "print(1-best_cost)"
   ]
  },
  {
   "cell_type": "code",
   "execution_count": 67,
   "id": "dec4e568",
   "metadata": {},
   "outputs": [],
   "source": [
    "import PyACO."
   ]
  },
  {
   "cell_type": "code",
   "execution_count": null,
   "id": "61c7a063",
   "metadata": {},
   "outputs": [],
   "source": []
  }
 ],
 "metadata": {
  "kernelspec": {
   "display_name": "Python 3 (ipykernel)",
   "language": "python",
   "name": "python3"
  },
  "language_info": {
   "codemirror_mode": {
    "name": "ipython",
    "version": 3
   },
   "file_extension": ".py",
   "mimetype": "text/x-python",
   "name": "python",
   "nbconvert_exporter": "python",
   "pygments_lexer": "ipython3",
   "version": "3.10.9"
  }
 },
 "nbformat": 4,
 "nbformat_minor": 5
}
